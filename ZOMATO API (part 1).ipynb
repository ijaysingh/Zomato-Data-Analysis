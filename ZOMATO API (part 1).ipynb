{
 "cells": [
  {
   "cell_type": "markdown",
   "id": "6a1f245e",
   "metadata": {},
   "source": [
    "# Problem Statement 1\n",
    "Mexican cuisine began about 9,000 years ago, when agricultural communities such as the Maya formed, domesticating maize, creating the standard process of corn nixtamalization, and establishing their foodways.\n",
    "You are a huge fan of ‘Mexican’ cuisine. Now using the Zomato API you want to analyse the best restaurant serving the Mexican Cuisine, their locations, and cost for two, etc.\n",
    "There is a list of questions related to Mexican cuisines given in the next section."
   ]
  },
  {
   "cell_type": "code",
   "execution_count": 1,
   "id": "165ee32c",
   "metadata": {},
   "outputs": [],
   "source": [
    "import requests\n",
    "from requests.auth import HTTPBasicAuth\n",
    "import json"
   ]
  },
  {
   "cell_type": "markdown",
   "id": "f36c5e70",
   "metadata": {},
   "source": [
    "## Question 1\n",
    "Fetch the cuisine_id of ‘Mexican’ cuisine using Zomato API.\n",
    "Print the cuisine_id."
   ]
  },
  {
   "cell_type": "code",
   "execution_count": 2,
   "id": "ab1d3d01",
   "metadata": {},
   "outputs": [],
   "source": [
    "req = requests.get('https://developers.zomato.com/api/v2.1/cuisines',\n",
    "                   params = {'user-key' : '627c28c07ad221c65491bbffea6f5d54', 'city_id' : 1},\n",
    "                   headers = {'Accept' : 'application/json', 'user-key' : '627c28c07ad221c65491bbffea6f5d54'})\n",
    "result = req.json()"
   ]
  },
  {
   "cell_type": "code",
   "execution_count": 3,
   "id": "5e16cc91",
   "metadata": {},
   "outputs": [
    {
     "name": "stdout",
     "output_type": "stream",
     "text": [
      "73\n"
     ]
    }
   ],
   "source": [
    "for item in result['cuisines']:\n",
    "    if item['cuisine']['cuisine_name'] == 'Mexican':\n",
    "        print(item['cuisine']['cuisine_id'])"
   ]
  },
  {
   "cell_type": "markdown",
   "id": "08d74c86",
   "metadata": {},
   "source": [
    "## Question 2\n",
    "Fetch the entityid and entitytype of place Connaught Place.\n",
    "Print the entityid and entitytype"
   ]
  },
  {
   "cell_type": "code",
   "execution_count": 4,
   "id": "1d9f87bd",
   "metadata": {},
   "outputs": [],
   "source": [
    "req = requests.get('https://developers.zomato.com/api/v2.1/locations',\n",
    "                   params = {'user-key' : '627c28c07ad221c65491bbffea6f5d54', 'query' : 'Connaught Place'},\n",
    "                   headers = {'Accept' : 'application/json', 'user-key' : '627c28c07ad221c65491bbffea6f5d54'})\n",
    "result = req.json()"
   ]
  },
  {
   "cell_type": "code",
   "execution_count": 5,
   "id": "e608ebd0",
   "metadata": {},
   "outputs": [
    {
     "name": "stdout",
     "output_type": "stream",
     "text": [
      "subzone 104\n"
     ]
    }
   ],
   "source": [
    "for item in result['location_suggestions']:\n",
    "    print(item['entity_type'], item['entity_id'])"
   ]
  },
  {
   "cell_type": "markdown",
   "id": "f35c4ba0",
   "metadata": {},
   "source": [
    "## Question 3\n",
    "Fetch the top 10 best-rated restaurant serving ‘Mexican’ cuisine present in Connaught Place.\n",
    "Print the restaurant name, user rating and restaurant id."
   ]
  },
  {
   "cell_type": "code",
   "execution_count": 6,
   "id": "37c1b34d",
   "metadata": {},
   "outputs": [],
   "source": [
    "req = requests.get('https://developers.zomato.com/api/v2.1/search',\n",
    "                   params = {'user-key' : '627c28c07ad221c65491bbffea6f5d54', 'entity_id' : 104, 'entity_type' : 'subzone',\n",
    "                            'count' : 10, 'cuisines' : 73, 'sort' : 'rating', 'order' : 'dsc'},\n",
    "                   headers = {'Accept' : 'application/json', 'user-key' : '627c28c07ad221c65491bbffea6f5d54'})\n",
    "result = req.json()"
   ]
  },
  {
   "cell_type": "code",
   "execution_count": 7,
   "id": "4fef1c19",
   "metadata": {},
   "outputs": [
    {
     "name": "stdout",
     "output_type": "stream",
     "text": [
      "Station Bar 4.5 18851371\n",
      "38 Barracks 4.4 18241537\n",
      "Master Of Malts 4.4 18391149\n",
      "Chili's Grill & Bar 4.4 18537536\n",
      "Local 4.3 18382360\n",
      "The Junkyard Cafe 4.3 313256\n",
      "Ministry Of Beer 4.3 18418277\n",
      "The Darzi Bar & Kitchen 4.3 18423151\n",
      "Farzi Cafe 4.3 18233593\n",
      "Teddy Boy 4.3 18281985\n"
     ]
    }
   ],
   "source": [
    "for i in result['restaurants']:\n",
    "    print(i['restaurant']['name'], i['restaurant']['user_rating']['aggregate_rating'], i['restaurant']['id'])"
   ]
  },
  {
   "cell_type": "markdown",
   "id": "f52e7903",
   "metadata": {},
   "source": [
    "## Question 4\n",
    "Fetch the category id of category type ‘Cafes’ using Zomato API.\n",
    "Print the category_id."
   ]
  },
  {
   "cell_type": "code",
   "execution_count": 8,
   "id": "521b515b",
   "metadata": {},
   "outputs": [],
   "source": [
    "req = requests.get('https://developers.zomato.com/api/v2.1/categories',\n",
    "                   params = {'user-key' : '627c28c07ad221c65491bbffea6f5d54'},\n",
    "                   headers = {'Accept' : 'application/json', 'user-key' : '627c28c07ad221c65491bbffea6f5d54'})\n",
    "result = req.json()"
   ]
  },
  {
   "cell_type": "code",
   "execution_count": 9,
   "id": "e70533ad",
   "metadata": {},
   "outputs": [
    {
     "name": "stdout",
     "output_type": "stream",
     "text": [
      "6\n"
     ]
    }
   ],
   "source": [
    "for item in result['categories']:\n",
    "    if item['categories']['name'] == 'Cafes':\n",
    "        print(item['categories']['id'])"
   ]
  },
  {
   "cell_type": "markdown",
   "id": "f2ed39c1",
   "metadata": {},
   "source": [
    "## Question 5\n",
    "Fetch the best-rated restaurant for ‘Mexican’ cuisine with category type ‘ Cafes’ present in Connaught Place using Zomato API.\n",
    "Print the restaurant name, user rating and restaurant id."
   ]
  },
  {
   "cell_type": "code",
   "execution_count": 10,
   "id": "789b78d2",
   "metadata": {},
   "outputs": [],
   "source": [
    "req = requests.get('https://developers.zomato.com/api/v2.1/search',\n",
    "                   params = {'user-key' : '627c28c07ad221c65491bbffea6f5d54', 'entity_id' : 104, 'entity_type' : 'subzone',\n",
    "                            'count' : 10, 'cuisines' : 73, 'category' : '6', 'sort' : 'rating', 'order' : 'dsc'},\n",
    "                   headers = {'Accept' : 'application/json', 'user-key' : '627c28c07ad221c65491bbffea6f5d54'})\n",
    "result = req.json()"
   ]
  },
  {
   "cell_type": "code",
   "execution_count": 11,
   "id": "7b22d43d",
   "metadata": {
    "scrolled": false
   },
   "outputs": [
    {
     "name": "stdout",
     "output_type": "stream",
     "text": [
      "Xero Degrees 4.3 18729557\n",
      "Chaayos - Meri Wali Chai 4.2 18237315\n",
      "The Art House Restaurant 4.1 18863766\n",
      "The Chai Story 3.9 18445782\n",
      "Cafe Coffee Day - The Square 3.9 303034\n"
     ]
    }
   ],
   "source": [
    "for i in result['restaurants']:\n",
    "    print(i['restaurant']['name'], i['restaurant']['user_rating']['aggregate_rating'], i['restaurant']['id'])"
   ]
  },
  {
   "cell_type": "markdown",
   "id": "0243f586",
   "metadata": {},
   "source": [
    "## Question 6\n",
    "Fetch the latest review of the best-rated restaurant for ‘Mexican’ cuisine with Category type ‘Cafes’ present in Connaught Place using Zomato API.\n",
    "Print the name of user ,user rating and review text.\n",
    "\n",
    "Note: Data can not be fetched because this API has been disabled."
   ]
  },
  {
   "cell_type": "code",
   "execution_count": 12,
   "id": "bda95b8b",
   "metadata": {},
   "outputs": [],
   "source": [
    "r = requests.get('https://developers.zomato.com/api/v2.1/reviews',\n",
    "            params = {'user-key' : 'f52f3e6784735c6a00bfcc7584bd2469', 'res_id' : 18729557},\n",
    "            headers = {'Accept' : 'application/json', 'user-key' : '627c28c07ad221c65491bbffea6f5d54'})\n",
    "result1 = r.json()"
   ]
  },
  {
   "cell_type": "code",
   "execution_count": 13,
   "id": "5b3c60db",
   "metadata": {},
   "outputs": [
    {
     "data": {
      "text/plain": [
       "{'code': 404,\n",
       " 'status': 'Not Found',\n",
       " 'message': 'This API has been disabled. For any further detail, please shoot a mail to reviews@zomato.com.'}"
      ]
     },
     "execution_count": 13,
     "metadata": {},
     "output_type": "execute_result"
    }
   ],
   "source": [
    "result1"
   ]
  },
  {
   "cell_type": "markdown",
   "id": "aa8a6443",
   "metadata": {},
   "source": [
    "# Problem Statement 2\n",
    "\"Pa Pa Ya\" is a modern Asian bistro & tapas bar from the House of Massive Restaurants and best described as a chic, modern and radical reinterpretation of Asian cuisine.\n",
    "You have heard from your friends that restaurant \"Pa Pa Ya\" in Delhi is quite good. So now you want to extract the information related to \"Pa Pa Ya\" using Zomato API.\n",
    "There is a list of questions related to the restaurant given in the next section."
   ]
  },
  {
   "cell_type": "markdown",
   "id": "61a8112d",
   "metadata": {},
   "source": [
    "## Question 1\n",
    "Fetch the details of \"Pa Pa Ya\" restaurant (ID: 18429148) using Zomato API.\n",
    "Print the user rating, the average cost for two, cuisines and address of \"Pa Pa Ya\" restaurant."
   ]
  },
  {
   "cell_type": "code",
   "execution_count": 14,
   "id": "a54ee328",
   "metadata": {},
   "outputs": [],
   "source": [
    "r = requests.get('https://developers.zomato.com/api/v2.1/restaurant',\n",
    "            params = {'user-key' : 'f52f3e6784735c6a00bfcc7584bd2469', 'res_id' : 18429148},\n",
    "            headers = {'Accept' : 'application/json', 'user-key' : '627c28c07ad221c65491bbffea6f5d54'})\n",
    "result = r.json()"
   ]
  },
  {
   "cell_type": "code",
   "execution_count": 15,
   "id": "28e485c9",
   "metadata": {},
   "outputs": [
    {
     "name": "stdout",
     "output_type": "stream",
     "text": [
      "4.6\n",
      "2500\n",
      "Asian, Chinese, Thai, Japanese, Sushi, Malaysian, Momos, Beverages\n",
      "A-3, Select Citywalk, District Centre, Saket, New Delhi\n"
     ]
    }
   ],
   "source": [
    "print(result[\"user_rating\"][\"aggregate_rating\"])\n",
    "print(result[\"average_cost_for_two\"])\n",
    "print(result[\"cuisines\"])\n",
    "print(result[\"location\"][\"address\"])"
   ]
  },
  {
   "cell_type": "markdown",
   "id": "4312b4c7",
   "metadata": {},
   "source": [
    "## Question 2\n",
    "Find out whether online table reservation is supported in \"Pa Pa Ya\" restaurant or not using Zomato API.\n",
    "Print 'yes' if online table reservation is supported else 'no'\n",
    "\n",
    "Note: In Zomato response JSON. 1=Yes and 0 = No"
   ]
  },
  {
   "cell_type": "code",
   "execution_count": 16,
   "id": "fdcdbda4",
   "metadata": {},
   "outputs": [
    {
     "name": "stdout",
     "output_type": "stream",
     "text": [
      "Yes\n"
     ]
    }
   ],
   "source": [
    "if result['is_table_reservation_supported'] == 1:\n",
    "    print('Yes')\n",
    "else:\n",
    "    print('No')"
   ]
  },
  {
   "cell_type": "markdown",
   "id": "962b4b03",
   "metadata": {},
   "source": [
    "## Question 3\n",
    "Fetch the latest review of \"Pa Pa Ya\" restaurant using Zomato API.\n",
    "Print the name of the user, user rating and review text.\n",
    "\n",
    "Note: Data can not be fetched because this API has been disabled."
   ]
  },
  {
   "cell_type": "code",
   "execution_count": 17,
   "id": "c96c8e6d",
   "metadata": {},
   "outputs": [],
   "source": [
    "r = requests.get('https://developers.zomato.com/api/v2.1/reviews',\n",
    "            params = {'user-key' : 'f52f3e6784735c6a00bfcc7584bd2469', 'res_id' : 18429148},\n",
    "            headers = {'Accept' : 'application/json', 'user-key' : '627c28c07ad221c65491bbffea6f5d54'})\n",
    "result1 = r.json()"
   ]
  },
  {
   "cell_type": "code",
   "execution_count": 18,
   "id": "886401e2",
   "metadata": {},
   "outputs": [
    {
     "data": {
      "text/plain": [
       "{'code': 404,\n",
       " 'status': 'Not Found',\n",
       " 'message': 'This API has been disabled. For any further detail, please shoot a mail to reviews@zomato.com.'}"
      ]
     },
     "execution_count": 18,
     "metadata": {},
     "output_type": "execute_result"
    }
   ],
   "source": [
    "result1"
   ]
  },
  {
   "cell_type": "markdown",
   "id": "4a20948a",
   "metadata": {},
   "source": [
    "# Problem Statement 3\n",
    "Distance is also a very important factor while selecting a restaurant. Suppose you are at Coding Ninjas and you want to select the restaurant which is near to you using Zomato API.\n",
    "Note down the latitude and longitude of Coding Ninjas using Google Maps\n",
    "There is a list of questions related to restaurant near me given in the next section."
   ]
  },
  {
   "cell_type": "markdown",
   "id": "db4bf6ce",
   "metadata": {},
   "source": [
    "## Question 1\n",
    "Fetch the cuisine_id of of cuisine ‘BBQ’ using Zomato API.\n",
    "Print the cuisine_id"
   ]
  },
  {
   "cell_type": "code",
   "execution_count": 19,
   "id": "f9ca5614",
   "metadata": {},
   "outputs": [],
   "source": [
    "req = requests.get('https://developers.zomato.com/api/v2.1/cuisines',\n",
    "                   params = {'user-key' : '627c28c07ad221c65491bbffea6f5d54', 'city_id' : 1},\n",
    "                   headers = {'Accept' : 'application/json', 'user-key' : '627c28c07ad221c65491bbffea6f5d54'})\n",
    "result = req.json()"
   ]
  },
  {
   "cell_type": "code",
   "execution_count": 20,
   "id": "18120be5",
   "metadata": {},
   "outputs": [
    {
     "name": "stdout",
     "output_type": "stream",
     "text": [
      "193\n"
     ]
    }
   ],
   "source": [
    "for item in result['cuisines']:\n",
    "    if item['cuisine']['cuisine_name'] == 'BBQ':\n",
    "        print(item['cuisine']['cuisine_id'])"
   ]
  },
  {
   "cell_type": "markdown",
   "id": "6296c943",
   "metadata": {},
   "source": [
    "## Question 2\n",
    "Experiment with the radius parameter that is present in ‘GET/search’. Fetch the list of top 10 best-restaurant present in a radius of 4 km of coding ninjas.\n",
    "Print the restaurant name, user rating, restaurant id and locality in which restaurant is present.\n",
    "\n"
   ]
  },
  {
   "cell_type": "code",
   "execution_count": 21,
   "id": "2233a778",
   "metadata": {},
   "outputs": [],
   "source": [
    "req = requests.get('https://developers.zomato.com/api/v2.1/search',\n",
    "                   params = {'user-key' : '627c28c07ad221c65491bbffea6f5d54',\n",
    "                            'count' : 10, 'cuisines' : 193, 'sort' : 'rating', 'order' : 'dsc'},\n",
    "                   headers = {'Accept' : 'application/json', 'user-key' : '627c28c07ad221c65491bbffea6f5d54'})\n",
    "result = req.json()"
   ]
  },
  {
   "cell_type": "code",
   "execution_count": 22,
   "id": "fe15b34f",
   "metadata": {},
   "outputs": [
    {
     "name": "stdout",
     "output_type": "stream",
     "text": [
      "Tommy's Famous-A Pizzeria 4.9 17279133 Mountain View\n",
      "Bar-B-Q Bill's 4.9 17350306 Chiefland\n",
      "Fitzgerald's Restaurant 4.9 17482231 Mohawk\n",
      "Mud Creek Outpost BBQ 4.9 17555627 Ringling\n",
      "Keith-A-Que 4.9 17368379 Ashburn\n",
      "Hinze's BBQ & Catering 4.9 17654283 Sealy\n",
      "Craig Brothers Cafe 4.9 17277886 De Valls Bluff\n",
      "WAKI Japanese BBQ Dining 4.9 18615392 Thamrin\n",
      "Old Country Store 4.9 17497170 Port Gibson\n",
      "Sweatman's BBQ 4.9 17605160 Holly Hill\n"
     ]
    }
   ],
   "source": [
    "for item in result['restaurants']:\n",
    "    print(item['restaurant']['name'], item['restaurant']['user_rating']['aggregate_rating'], \n",
    "         item['restaurant']['id'], item['restaurant']['location']['locality'])"
   ]
  }
 ],
 "metadata": {
  "kernelspec": {
   "display_name": "Python 3",
   "language": "python",
   "name": "python3"
  },
  "language_info": {
   "codemirror_mode": {
    "name": "ipython",
    "version": 3
   },
   "file_extension": ".py",
   "mimetype": "text/x-python",
   "name": "python",
   "nbconvert_exporter": "python",
   "pygments_lexer": "ipython3",
   "version": "3.8.8"
  }
 },
 "nbformat": 4,
 "nbformat_minor": 5
}
